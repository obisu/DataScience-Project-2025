{
  "nbformat": 4,
  "nbformat_minor": 0,
  "metadata": {
    "colab": {
      "provenance": [],
      "toc_visible": true,
      "authorship_tag": "ABX9TyPU3mnzS8Ues5g1pr7l+N0Q",
      "include_colab_link": true
    },
    "kernelspec": {
      "name": "python3",
      "display_name": "Python 3"
    },
    "language_info": {
      "name": "python"
    }
  },
  "cells": [
    {
      "cell_type": "markdown",
      "metadata": {
        "id": "view-in-github",
        "colab_type": "text"
      },
      "source": [
        "<a href=\"https://colab.research.google.com/github/obisu/DataScience-Project-2025/blob/main/data_science_notebook.ipynb\" target=\"_parent\"><img src=\"https://colab.research.google.com/assets/colab-badge.svg\" alt=\"Open In Colab\"/></a>"
      ]
    },
    {
      "cell_type": "markdown",
      "source": [
        "## Ingest"
      ],
      "metadata": {
        "id": "yTbM-jDKt0U9"
      }
    },
    {
      "cell_type": "markdown",
      "source": [
        "##EDA"
      ],
      "metadata": {
        "id": "euYMbaHsuUUm"
      }
    },
    {
      "cell_type": "markdown",
      "source": [
        "##Modeling"
      ],
      "metadata": {
        "id": "rzZRb5QcuZu6"
      }
    },
    {
      "cell_type": "markdown",
      "source": [
        "###Supervised Learning"
      ],
      "metadata": {
        "id": "rmflgvPnvJAa"
      }
    },
    {
      "cell_type": "markdown",
      "source": [
        "###Unsupervised Learning"
      ],
      "metadata": {
        "id": "oEPlTc6lviii"
      }
    },
    {
      "cell_type": "markdown",
      "source": [
        "##Conclusion"
      ],
      "metadata": {
        "id": "zqqqOxY9u9tG"
      }
    }
  ]
}